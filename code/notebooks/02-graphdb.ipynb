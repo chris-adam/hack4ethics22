{
 "cells": [
  {
   "cell_type": "code",
   "execution_count": null,
   "id": "e270a161",
   "metadata": {},
   "outputs": [],
   "source": [
    "!pip install git+https://github.com/ybaktir/networkx-neo4j"
   ]
  },
  {
   "cell_type": "code",
   "execution_count": null,
   "id": "a1a1664c",
   "metadata": {},
   "outputs": [],
   "source": [
    "!pip install neo4j"
   ]
  },
  {
   "cell_type": "code",
   "execution_count": null,
   "id": "056a3acf",
   "metadata": {},
   "outputs": [],
   "source": [
    "# !pip freeze"
   ]
  },
  {
   "cell_type": "code",
   "execution_count": 12,
   "id": "bcd3417f",
   "metadata": {},
   "outputs": [],
   "source": [
    "import numpy as np\n",
    "import pandas as pd\n",
    "pd.set_option('display.max_colwidth', 100) # default 50, the maximum width in characters of a column\n",
    "pd.set_option('display.max_columns', 40)   # default 20, the maximum amount of columns in view \n",
    "pd.set_option('display.max_rows', 60)      # default 60, the maximum amount of rows in view\n",
    "\n",
    "# graph neo4j packages\n",
    "from py2neo import Graph, Node, Relationship\n",
    "import nxneo4j as nx\n",
    "from neo4j import GraphDatabase\n",
    "\n",
    "# operating system packages\n",
    "import platform\n",
    "import psutil\n",
    "import os"
   ]
  },
  {
   "cell_type": "code",
   "execution_count": 13,
   "id": "d039339b",
   "metadata": {},
   "outputs": [
    {
     "data": {
      "text/html": [
       "<table><tr><th>name</th><th>versions</th><th>edition</th></tr><tr><td style=\"text-align:left\">Neo4j Kernel</td><td style=\"text-align:left\">[&#039;4.4-aura&#039;]</td><td style=\"text-align:left\">enterprise</td></tr></table>"
      ],
      "text/plain": [
       " name         | versions     | edition    \n",
       "--------------|--------------|------------\n",
       " Neo4j Kernel | ['4.4-aura'] | enterprise "
      ]
     },
     "execution_count": 13,
     "metadata": {},
     "output_type": "execute_result"
    }
   ],
   "source": [
    "# load graph connection instance (https://sandbox.neo4j.com/)\n",
    "port      = \"7687\"\n",
    "user      = \"neo4j\"\n",
    "passw     = \"07xLgl5sy7uUazqtWh1QvuRHSTIkkUZ_kMz5Hqg8Twc\"\n",
    "db_name   = \"neo4j\"\n",
    "uri       = \"neo4j+s://2abbd1fc.databases.neo4j.io\"\n",
    "\n",
    "# py2neo instance\n",
    "graph   = Graph(uri, auth=(user, passw))\n",
    "\n",
    "# nxneo4j instance\n",
    "driver  = GraphDatabase.driver(uri, auth=(user, passw))\n",
    "G       = nx.DiGraph(driver) # directed graph\n",
    "\n",
    "# neo4j database version\n",
    "graph.call.dbms.components()"
   ]
  },
  {
   "cell_type": "code",
   "execution_count": 24,
   "id": "0863aeff",
   "metadata": {},
   "outputs": [
    {
     "name": "stdout",
     "output_type": "stream",
     "text": [
      "{'service': <GraphService uri='neo4j+s://2abbd1fc.databases.neo4j.io:7687' secure=True user_agent=None>, '__name__': None, 'schema': <py2neo.database.Schema object at 0x7fb5a9acd550>, '_procedures': <py2neo.cypher.proc.ProcedureLibrary object at 0x7fb5a9acd310>}\n"
     ]
    }
   ],
   "source": [
    "print(graph.__dict__)"
   ]
  },
  {
   "cell_type": "code",
   "execution_count": 14,
   "id": "7333e684",
   "metadata": {},
   "outputs": [],
   "source": [
    "# list of files\n",
    "SAS_url   = \"https://datalake28042022.blob.core.windows.net/\"\n",
    "signkey   = \"?sv=2020-02-10&st=2022-04-30T13%3A49%3A23Z&se=2022-05-29T13%3A49%3A00Z&sr=d&sp=racwdl&sig=JD%2BAFdAqKPT%2FZaUJad9dA%2FkhbQhzDjhIGEeJwGxPbdk%3D&sdd=1\"\n",
    "\n",
    "come_from_url = SAS_url + \"datalake/silver/come_from.csv\" + signkey\n",
    "complete_cleaned_url = SAS_url + \"datalake/silver/complete_cleaned.csv\" + signkey\n",
    "date_url = SAS_url + \"datalake/silver/date.csv\" + signkey\n",
    "has_product_url = SAS_url + \"datalake/silver/has_product.csv\" + signkey\n",
    "located_in_url = SAS_url + \"datalake/silver/located_in.csv\" + signkey"
   ]
  },
  {
   "cell_type": "code",
   "execution_count": null,
   "id": "5326147f",
   "metadata": {},
   "outputs": [],
   "source": [
    "pd.read_csv(date_url)"
   ]
  },
  {
   "cell_type": "code",
   "execution_count": null,
   "id": "18b1528b",
   "metadata": {},
   "outputs": [],
   "source": [
    "pd.read_csv(date_url).drop_duplicates()"
   ]
  },
  {
   "cell_type": "markdown",
   "id": "3521b732",
   "metadata": {},
   "source": [
    "## create nodes"
   ]
  },
  {
   "cell_type": "code",
   "execution_count": 15,
   "id": "71a4b695",
   "metadata": {},
   "outputs": [],
   "source": [
    "G.delete_all()"
   ]
  },
  {
   "cell_type": "code",
   "execution_count": null,
   "id": "4d42b301",
   "metadata": {},
   "outputs": [],
   "source": []
  },
  {
   "cell_type": "code",
   "execution_count": null,
   "id": "887b513a",
   "metadata": {},
   "outputs": [],
   "source": []
  },
  {
   "cell_type": "code",
   "execution_count": null,
   "id": "5feedb2c",
   "metadata": {},
   "outputs": [],
   "source": [
    "graph.run(\"CREATE CONSTRAINT ON (co:Company) ASSERT co.CompanyName IS UNIQUE\")"
   ]
  },
  {
   "cell_type": "code",
   "execution_count": 16,
   "id": "3f78546b",
   "metadata": {},
   "outputs": [
    {
     "data": {
      "text/plain": [
       "{'labels_added': 880, 'nodes_created': 880, 'properties_set': 880}"
      ]
     },
     "metadata": {},
     "output_type": "display_data"
    },
    {
     "name": "stdout",
     "output_type": "stream",
     "text": [
      "CPU times: user 1.9 ms, sys: 4.06 ms, total: 5.95 ms\n",
      "Wall time: 562 ms\n"
     ]
    }
   ],
   "source": [
    "%%time\n",
    "query = \"\"\"\n",
    "USING PERIODIC COMMIT 10000\n",
    "LOAD CSV WITH HEADERS FROM '\"\"\"+complete_cleaned_url+\"\"\"' AS line FIELDTERMINATOR ','\n",
    "MERGE (co:Company {CompanyName:(line.CompanyName)})\n",
    "\"\"\"\n",
    "display(graph.run(query).stats())"
   ]
  },
  {
   "cell_type": "code",
   "execution_count": null,
   "id": "a3b731a2",
   "metadata": {},
   "outputs": [],
   "source": []
  },
  {
   "cell_type": "code",
   "execution_count": null,
   "id": "9b83b615",
   "metadata": {},
   "outputs": [],
   "source": [
    "graph.run(\"CREATE CONSTRAINT ON (pr:Product) ASSERT pr.ProductName IS UNIQUE\")"
   ]
  },
  {
   "cell_type": "code",
   "execution_count": 17,
   "id": "e8d6b402",
   "metadata": {},
   "outputs": [
    {
     "data": {
      "text/plain": [
       "{'labels_added': 30721, 'nodes_created': 30721, 'properties_set': 30721}"
      ]
     },
     "metadata": {},
     "output_type": "display_data"
    },
    {
     "name": "stdout",
     "output_type": "stream",
     "text": [
      "CPU times: user 11.9 ms, sys: 259 µs, total: 12.2 ms\n",
      "Wall time: 1.29 s\n"
     ]
    }
   ],
   "source": [
    "%%time\n",
    "query = \"\"\"\n",
    "USING PERIODIC COMMIT 10000\n",
    "LOAD CSV WITH HEADERS FROM '\"\"\"+date_url+\"\"\"' AS line FIELDTERMINATOR ','\n",
    "MERGE (pr:Product {ProductName:(line.ProductName)})\n",
    "\"\"\"\n",
    "display(graph.run(query).stats())"
   ]
  },
  {
   "cell_type": "code",
   "execution_count": null,
   "id": "0cacdb62",
   "metadata": {},
   "outputs": [],
   "source": []
  },
  {
   "cell_type": "code",
   "execution_count": 7,
   "id": "47905e24",
   "metadata": {},
   "outputs": [
    {
     "data": {
      "text/html": [
       "(No data)"
      ],
      "text/plain": [
       "(No data)"
      ]
     },
     "execution_count": 7,
     "metadata": {},
     "output_type": "execute_result"
    }
   ],
   "source": [
    "graph.run(\"CREATE CONSTRAINT ON (cy:Country) ASSERT cy.CountryName IS UNIQUE\")"
   ]
  },
  {
   "cell_type": "code",
   "execution_count": 18,
   "id": "4a39823d",
   "metadata": {},
   "outputs": [
    {
     "data": {
      "text/plain": [
       "{'labels_added': 26, 'nodes_created': 26, 'properties_set': 26}"
      ]
     },
     "metadata": {},
     "output_type": "display_data"
    },
    {
     "name": "stdout",
     "output_type": "stream",
     "text": [
      "CPU times: user 5.14 ms, sys: 0 ns, total: 5.14 ms\n",
      "Wall time: 338 ms\n"
     ]
    }
   ],
   "source": [
    "%%time\n",
    "query = \"\"\"\n",
    "USING PERIODIC COMMIT 10000\n",
    "LOAD CSV WITH HEADERS FROM '\"\"\"+complete_cleaned_url+\"\"\"' AS line FIELDTERMINATOR ','\n",
    "MERGE (cy:Country {CountryName:(line.CountryName)})\n",
    "\"\"\"\n",
    "display(graph.run(query).stats())"
   ]
  },
  {
   "cell_type": "markdown",
   "id": "b1040608",
   "metadata": {},
   "source": [
    "## relationship"
   ]
  },
  {
   "cell_type": "code",
   "execution_count": 19,
   "id": "174d3c02",
   "metadata": {},
   "outputs": [
    {
     "data": {
      "text/plain": [
       "{'relationships_created': 888}"
      ]
     },
     "metadata": {},
     "output_type": "display_data"
    },
    {
     "name": "stdout",
     "output_type": "stream",
     "text": [
      "CPU times: user 21.4 ms, sys: 7.62 ms, total: 29 ms\n",
      "Wall time: 266 ms\n"
     ]
    }
   ],
   "source": [
    "%%time\n",
    "query = \"\"\"\n",
    "USING PERIODIC COMMIT 10000\n",
    "LOAD CSV WITH HEADERS FROM '\"\"\"+located_in_url+\"\"\"' AS line FIELDTERMINATOR ','\n",
    "MATCH (co:Company {CompanyName:(line.CompanyName)})\n",
    "MATCH (cy:Country {CountryName:(line.CountryName)})\n",
    "MERGE (co)-[:LOCATED_IN]->(cy)\n",
    "\"\"\"\n",
    "display(graph.run(query).stats())"
   ]
  },
  {
   "cell_type": "code",
   "execution_count": null,
   "id": "bad559a1",
   "metadata": {},
   "outputs": [],
   "source": []
  },
  {
   "cell_type": "code",
   "execution_count": 20,
   "id": "d9489677",
   "metadata": {},
   "outputs": [
    {
     "data": {
      "text/plain": [
       "{'relationships_created': 31272}"
      ]
     },
     "metadata": {},
     "output_type": "display_data"
    },
    {
     "name": "stdout",
     "output_type": "stream",
     "text": [
      "CPU times: user 5.71 ms, sys: 317 µs, total: 6.03 ms\n",
      "Wall time: 2.09 s\n"
     ]
    }
   ],
   "source": [
    "%%time\n",
    "query = \"\"\"\n",
    "USING PERIODIC COMMIT 10000\n",
    "LOAD CSV WITH HEADERS FROM '\"\"\"+has_product_url+\"\"\"' AS line FIELDTERMINATOR ','\n",
    "MATCH (co:Company {CompanyName:(line.CompanyName)})\n",
    "MATCH (pr:Product {ProductName:(line.ProductName)})\n",
    "MERGE (co)-[:HAS_PRODUCT]->(pr)\n",
    "\"\"\"\n",
    "display(graph.run(query).stats())"
   ]
  },
  {
   "cell_type": "code",
   "execution_count": null,
   "id": "0d1d90b7",
   "metadata": {},
   "outputs": [],
   "source": []
  },
  {
   "cell_type": "code",
   "execution_count": 21,
   "id": "c1cd00a4",
   "metadata": {},
   "outputs": [
    {
     "data": {
      "text/plain": [
       "{'relationships_created': 30731}"
      ]
     },
     "metadata": {},
     "output_type": "display_data"
    },
    {
     "name": "stdout",
     "output_type": "stream",
     "text": [
      "CPU times: user 317 µs, sys: 4.91 ms, total: 5.23 ms\n",
      "Wall time: 1.45 s\n"
     ]
    }
   ],
   "source": [
    "%%time\n",
    "query = \"\"\"\n",
    "USING PERIODIC COMMIT 10000\n",
    "LOAD CSV WITH HEADERS FROM '\"\"\"+come_from_url+\"\"\"' AS line FIELDTERMINATOR ','\n",
    "MATCH (pr:Product {ProductName:(line.ProductName)})\n",
    "MATCH (cy:Country {CountryName:(line.CountryName)})\n",
    "MERGE (pr)-[:COME_FROM]->(cy)\n",
    "\"\"\"\n",
    "display(graph.run(query).stats())"
   ]
  },
  {
   "cell_type": "code",
   "execution_count": null,
   "id": "c4b31065",
   "metadata": {},
   "outputs": [],
   "source": []
  },
  {
   "cell_type": "markdown",
   "id": "d26aee28",
   "metadata": {},
   "source": [
    "## queries"
   ]
  },
  {
   "cell_type": "code",
   "execution_count": null,
   "id": "cc4e26d2",
   "metadata": {},
   "outputs": [],
   "source": [
    "query = \"\"\"\n",
    "MATCH (w:Winery)-[:FROM_PROVENCE]->(p:Province)-[:PROVINCE_COUNTRY]->(c:Country)\n",
    "RETURN c.name AS Country, count(DISTINCT w) AS totalNrWineries\n",
    "ORDER BY totalNrWineries DESC LIMIT 10\n",
    "\"\"\"\n",
    "graph.run(query).to_data_frame()"
   ]
  },
  {
   "cell_type": "code",
   "execution_count": 2,
   "id": "cced995f",
   "metadata": {},
   "outputs": [
    {
     "name": "stdout",
     "output_type": "stream",
     "text": [
      "                                    n\n",
      "0          {'CountryName': 'Austria'}\n",
      "1          {'CountryName': 'Belgium'}\n",
      "2         {'CountryName': 'Bulgaria'}\n",
      "3           {'CountryName': 'Cyprus'}\n",
      "4   {'CountryName': 'Czech Republic'}\n",
      "5          {'CountryName': 'Germany'}\n",
      "6          {'CountryName': 'Denmark'}\n",
      "7          {'CountryName': 'Estonia'}\n",
      "8            {'CountryName': 'Spain'}\n",
      "9          {'CountryName': 'Finland'}\n",
      "10          {'CountryName': 'France'}\n",
      "11          {'CountryName': 'Greece'}\n",
      "12         {'CountryName': 'Croatia'}\n",
      "13         {'CountryName': 'Hungary'}\n",
      "14         {'CountryName': 'Ireland'}\n",
      "15           {'CountryName': 'Italy'}\n",
      "16       {'CountryName': 'Lithuania'}\n",
      "17          {'CountryName': 'Latvia'}\n",
      "18     {'CountryName': 'Netherlands'}\n",
      "19          {'CountryName': 'Norway'}\n",
      "20          {'CountryName': 'Poland'}\n",
      "21        {'CountryName': 'Portugal'}\n",
      "22         {'CountryName': 'Romania'}\n",
      "23          {'CountryName': 'Sweden'}\n",
      "24        {'CountryName': 'Slovenia'}\n"
     ]
    }
   ],
   "source": [
    "import datetime\n",
    "import pandas as pd\n",
    "from py2neo import Graph\n",
    "\n",
    "def get_all_products():\n",
    "    \"\"\"\n",
    "    Returns all products from the database\n",
    "    \"\"\"\n",
    "    user      = \"neo4j\"\n",
    "    passw     = \"07xLgl5sy7uUazqtWh1QvuRHSTIkkUZ_kMz5Hqg8Twc\"\n",
    "    uri       = \"neo4j+s://2abbd1fc.databases.neo4j.io\"\n",
    "\n",
    "    graph = Graph(uri, auth=(user, passw))\n",
    "    query = \"\"\"\n",
    "    MATCH (n:Country)\n",
    "    RETURN n LIMIT 25\n",
    "    \"\"\"\n",
    "    return graph.run(query).to_data_frame().to_string()"
   ]
  },
  {
   "cell_type": "code",
   "execution_count": 5,
   "id": "40730c0e",
   "metadata": {},
   "outputs": [
    {
     "name": "stdout",
     "output_type": "stream",
     "text": [
      "asttokens==2.0.5\r\n",
      "azure-core==1.23.1\r\n",
      "azure-storage-blob==12.11.0\r\n",
      "backcall==0.2.0\r\n",
      "certifi==2021.10.8\r\n",
      "cffi==1.15.0\r\n",
      "charset-normalizer==2.0.12\r\n",
      "cramjam==2.5.0\r\n",
      "cryptography==37.0.1\r\n",
      "debugpy==1.6.0\r\n",
      "decorator==5.1.1\r\n",
      "entrypoints==0.4\r\n",
      "executing==0.8.3\r\n",
      "fastparquet==0.8.1\r\n",
      "fsspec==2022.3.0\r\n",
      "fuzzywuzzy==0.18.0\r\n",
      "idna==3.3\r\n",
      "interchange==2021.0.4\r\n",
      "ipykernel==6.13.0\r\n",
      "ipython==8.2.0\r\n",
      "ipython-cypher==0.2.6\r\n",
      "isodate==0.6.1\r\n",
      "jedi==0.18.1\r\n",
      "jupyter-client==7.3.0\r\n",
      "jupyter-core==4.10.0\r\n",
      "matplotlib-inline==0.1.3\r\n",
      "monotonic==1.6\r\n",
      "msrest==0.6.21\r\n",
      "neo4j==4.4.3\r\n",
      "neo4j-driver==4.4.3\r\n",
      "neo4jrestclient==2.1.1\r\n",
      "nest-asyncio==1.5.5\r\n",
      "networkx-neo4j @ git+https://github.com/ybaktir/networkx-neo4j@97dc9563bf992ea9714cbdb99cb9e6a41c7cce65\r\n",
      "numpy==1.22.3\r\n",
      "oauthlib==3.2.0\r\n",
      "packaging==21.3\r\n",
      "pandas==1.4.2\r\n",
      "pansi==2020.7.3\r\n",
      "parso==0.8.3\r\n",
      "pexpect==4.8.0\r\n",
      "pickleshare==0.7.5\r\n",
      "prettytable==3.2.0\r\n",
      "prompt-toolkit==3.0.29\r\n",
      "psutil==5.9.0\r\n",
      "ptyprocess==0.7.0\r\n",
      "pure-eval==0.2.2\r\n",
      "py2neo==2021.2.3\r\n",
      "pyarrow==7.0.0\r\n",
      "pycparser==2.21\r\n",
      "Pygments==2.12.0\r\n",
      "pyparsing==3.0.8\r\n",
      "python-dateutil==2.8.2\r\n",
      "python-Levenshtein==0.12.2\r\n",
      "pytz==2022.1\r\n",
      "pyzmq==22.3.0\r\n",
      "requests==2.27.1\r\n",
      "requests-oauthlib==1.3.1\r\n",
      "six==1.16.0\r\n",
      "stack-data==0.2.0\r\n",
      "tornado==6.1\r\n",
      "traitlets==5.1.1\r\n",
      "typing_extensions==4.2.0\r\n",
      "urllib3==1.26.9\r\n",
      "wcwidth==0.2.5\r\n"
     ]
    }
   ],
   "source": [
    "!pip freeze"
   ]
  },
  {
   "cell_type": "code",
   "execution_count": null,
   "id": "ce1cf575",
   "metadata": {},
   "outputs": [],
   "source": []
  }
 ],
 "metadata": {
  "kernelspec": {
   "display_name": "py38_neo4j",
   "language": "python",
   "name": "conda-env-py38_neo4j-py"
  },
  "language_info": {
   "codemirror_mode": {
    "name": "ipython",
    "version": 3
   },
   "file_extension": ".py",
   "mimetype": "text/x-python",
   "name": "python",
   "nbconvert_exporter": "python",
   "pygments_lexer": "ipython3",
   "version": "3.8.13"
  }
 },
 "nbformat": 4,
 "nbformat_minor": 5
}
