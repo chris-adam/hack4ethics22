{
 "cells": [
  {
   "cell_type": "code",
   "execution_count": 1,
   "id": "f470b3d8",
   "metadata": {},
   "outputs": [],
   "source": [
    "import pandas as pd"
   ]
  },
  {
   "cell_type": "code",
   "execution_count": 2,
   "id": "8b4429a9",
   "metadata": {},
   "outputs": [],
   "source": [
    "# https://data.europa.eu/data/datasets/eu-ecolabel-products?locale=en\n",
    "ethical_products_df = pd.read_csv('https://ecenvdatapublic.blob.core.windows.net/ecolabel/exports/most-recent-export.csv')"
   ]
  },
  {
   "cell_type": "code",
   "execution_count": 3,
   "id": "789394b2",
   "metadata": {},
   "outputs": [],
   "source": [
    "# https://datahub.io/core/country-list\n",
    "country_codes_df = pd.read_csv('https://datahub.io/core/country-list/r/data.csv')"
   ]
  },
  {
   "cell_type": "code",
   "execution_count": 4,
   "id": "0f9c56d1",
   "metadata": {},
   "outputs": [],
   "source": [
    "# set data types correct\n",
    "ethical_products_df = ethical_products_df.convert_dtypes()\n",
    "country_codes_df = country_codes_df.convert_dtypes()"
   ]
  },
  {
   "cell_type": "code",
   "execution_count": 5,
   "id": "bdc6eb41",
   "metadata": {},
   "outputs": [],
   "source": [
    "# select only records with PRODUCT\n",
    "df = ethical_products_df.loc[ethical_products_df['PRODUCT_SERVICE'] == 'PRODUCT']"
   ]
  },
  {
   "cell_type": "code",
   "execution_count": 6,
   "id": "91fed63c",
   "metadata": {},
   "outputs": [],
   "source": [
    "# only keep relevant columns\n",
    "df = df.drop(['PRODUCT_SERVICE', 'LIC_NR', 'GROUP_CODE', 'GROUP_NAME', 'EXTID_TYPE', 'EXT_ID', 'VAT', 'COMPANY_COUNTRY'], axis=1)"
   ]
  },
  {
   "cell_type": "code",
   "execution_count": 7,
   "id": "eeb90924",
   "metadata": {},
   "outputs": [],
   "source": [
    "# rename column names to proper values\n",
    "df = df.rename(columns={'NAME': 'ProductName', '\\DECISION': 'Decision', 'EXPIRATION_DATE': 'ExpirationDate', 'COMPANY_NAME':'CompanyName', 'COUNTRY': 'Country'})"
   ]
  },
  {
   "cell_type": "code",
   "execution_count": 8,
   "id": "9808cfe6",
   "metadata": {
    "scrolled": false
   },
   "outputs": [],
   "source": [
    "#merge country codes\n",
    "df = pd.merge(df, \n",
    "              country_codes_df[['Name', 'Code']],\n",
    "              left_on='Country',\n",
    "              right_on='Code')\n",
    "df = df.drop(['Country'], axis=1)\n",
    "df = df.rename(columns={'Name': 'CountryName', 'Code': 'CountryCode'})"
   ]
  },
  {
   "cell_type": "markdown",
   "id": "87e6d773",
   "metadata": {},
   "source": [
    "### Save CSVs"
   ]
  },
  {
   "cell_type": "code",
   "execution_count": 10,
   "id": "215e38dc",
   "metadata": {},
   "outputs": [],
   "source": [
    "df[['CompanyName', 'ProductName']].drop_duplicates().to_csv(\"../../data/silver/has_product.csv\", index=False, sep=',')\n",
    "df[['CompanyName', 'CountryName']].drop_duplicates().to_csv(\"../../data/silver/located_in.csv\", index=False, sep=',')\n",
    "df[['ProductName', 'CountryName']].drop_duplicates().to_csv(\"../../data/silver/come_from.csv\", index=False, sep=',')\n",
    "df[['ProductName', 'Decision', 'ExpirationDate']].drop_duplicates().to_csv(\"../../data/silver/date.csv\", index=False, sep=',')\n",
    "df.drop_duplicates().to_csv(\"../../data/silver/complete_cleaned.csv\", index=False, sep=',')"
   ]
  },
  {
   "cell_type": "code",
   "execution_count": 11,
   "id": "ad52a8b7",
   "metadata": {},
   "outputs": [
    {
     "name": "stdout",
     "output_type": "stream",
     "text": [
      "-rw-rw-r-- 1 ubuntu ubuntu 1688698 Apr 30 16:00 ../../data/silver/come_from.csv\r\n",
      "-rw-rw-r-- 1 ubuntu ubuntu 3525979 Apr 30 16:00 ../../data/silver/complete_cleaned.csv\r\n",
      "-rw-rw-r-- 1 ubuntu ubuntu 2530802 Apr 30 16:00 ../../data/silver/date.csv\r\n",
      "-rw-rw-r-- 1 ubuntu ubuntu 2135500 Apr 30 16:00 ../../data/silver/has_product.csv\r\n",
      "-rw-rw-r-- 1 ubuntu ubuntu   25062 Apr 30 16:00 ../../data/silver/located_in.csv\r\n"
     ]
    }
   ],
   "source": [
    "! ls -l ../../data/silver/*.csv"
   ]
  },
  {
   "cell_type": "code",
   "execution_count": 12,
   "id": "ffb23052",
   "metadata": {},
   "outputs": [
    {
     "name": "stdout",
     "output_type": "stream",
     "text": [
      "tar: Removing leading `../../' from member names\n",
      "../../data/silver/come_from.csv\n",
      "tar: Removing leading `../../' from hard link targets\n",
      "../../data/silver/complete_cleaned.csv\n",
      "../../data/silver/date.csv\n",
      "../../data/silver/has_product.csv\n",
      "../../data/silver/located_in.csv\n"
     ]
    }
   ],
   "source": [
    "! tar czvf ../../data/silver/csvdata.tar.gz ../../data/silver/*.csv"
   ]
  }
 ],
 "metadata": {
  "kernelspec": {
   "display_name": "py38_dashboard",
   "language": "python",
   "name": "conda-env-py38_dashboard-py"
  },
  "language_info": {
   "codemirror_mode": {
    "name": "ipython",
    "version": 3
   },
   "file_extension": ".py",
   "mimetype": "text/x-python",
   "name": "python",
   "nbconvert_exporter": "python",
   "pygments_lexer": "ipython3",
   "version": "3.8.13"
  }
 },
 "nbformat": 4,
 "nbformat_minor": 5
}
